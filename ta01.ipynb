{
 "cells": [
  {
   "cell_type": "code",
   "execution_count": null,
   "id": "8978137c-1244-4bea-85f9-251247f9949d",
   "metadata": {},
   "outputs": [],
   "source": [
    "for aux in os.listdir('.'):\n",
    "  #Lê imagem\n",
    "  img = cv2.imread(aux)\n",
    "  gray = cv2.cvtColor(img, cv2.COLOR_BGR2GRAY)\n",
    "\n",
    "  #Gera imagem binária usando métrica de Otsu\n",
    "  _, bin_img = cv2.threshold(gray,0,255,cv2.THRESH_BINARY_INV | cv2.THRESH_OTSU)"
   ]
  }
 ],
 "metadata": {
  "kernelspec": {
   "display_name": "Python 3 (ipykernel)",
   "language": "python",
   "name": "python3"
  },
  "language_info": {
   "codemirror_mode": {
    "name": "ipython",
    "version": 3
   },
   "file_extension": ".py",
   "mimetype": "text/x-python",
   "name": "python",
   "nbconvert_exporter": "python",
   "pygments_lexer": "ipython3",
   "version": "3.10.6"
  }
 },
 "nbformat": 4,
 "nbformat_minor": 5
}
